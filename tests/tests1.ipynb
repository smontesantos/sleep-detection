{
 "cells": [
  {
   "cell_type": "code",
   "execution_count": 1,
   "metadata": {},
   "outputs": [
    {
     "name": "stderr",
     "output_type": "stream",
     "text": [
      "2023-11-08 18:56:24.387750: I tensorflow/core/util/port.cc:111] oneDNN custom operations are on. You may see slightly different numerical results due to floating-point round-off errors from different computation orders. To turn them off, set the environment variable `TF_ENABLE_ONEDNN_OPTS=0`.\n",
      "2023-11-08 18:56:24.389522: I tensorflow/tsl/cuda/cudart_stub.cc:28] Could not find cuda drivers on your machine, GPU will not be used.\n",
      "2023-11-08 18:56:24.411782: E tensorflow/compiler/xla/stream_executor/cuda/cuda_dnn.cc:9342] Unable to register cuDNN factory: Attempting to register factory for plugin cuDNN when one has already been registered\n",
      "2023-11-08 18:56:24.411811: E tensorflow/compiler/xla/stream_executor/cuda/cuda_fft.cc:609] Unable to register cuFFT factory: Attempting to register factory for plugin cuFFT when one has already been registered\n",
      "2023-11-08 18:56:24.411825: E tensorflow/compiler/xla/stream_executor/cuda/cuda_blas.cc:1518] Unable to register cuBLAS factory: Attempting to register factory for plugin cuBLAS when one has already been registered\n",
      "2023-11-08 18:56:24.416531: I tensorflow/tsl/cuda/cudart_stub.cc:28] Could not find cuda drivers on your machine, GPU will not be used.\n",
      "2023-11-08 18:56:24.417109: I tensorflow/core/platform/cpu_feature_guard.cc:182] This TensorFlow binary is optimized to use available CPU instructions in performance-critical operations.\n",
      "To enable the following instructions: AVX2 AVX_VNNI FMA, in other operations, rebuild TensorFlow with the appropriate compiler flags.\n",
      "2023-11-08 18:56:25.042352: W tensorflow/compiler/tf2tensorrt/utils/py_utils.cc:38] TF-TRT Warning: Could not find TensorRT\n"
     ]
    }
   ],
   "source": [
    "# Import libraries.\n",
    "import numpy as np\n",
    "import pandas as pd\n",
    "import matplotlib.pyplot as plt\n",
    "import seaborn as sns\n",
    "import os\n",
    "import glob\n",
    "import warnings\n",
    "\n",
    "# TF libraries.\n",
    "import tensorflow as tf\n",
    "from tensorflow.keras.preprocessing.image import load_img, img_to_array, array_to_img\n",
    "\n",
    "\n",
    "warnings.filterwarnings('ignore')\n",
    "pd.options.display.max_columns = None"
   ]
  },
  {
   "cell_type": "code",
   "execution_count": 2,
   "metadata": {},
   "outputs": [],
   "source": [
    "# Get the 2 filepaths.\n",
    "closed_path = os.path.join('..','data','eyes','close')\n",
    "open_path = os.path.join('..','data','eyes','open')\n",
    "\n"
   ]
  },
  {
   "cell_type": "code",
   "execution_count": 3,
   "metadata": {},
   "outputs": [
    {
     "name": "stdout",
     "output_type": "stream",
     "text": [
      "Images have a shape of (rows {y}, columns {x})  (260, 400)\n"
     ]
    }
   ],
   "source": [
    "img_shape = (260, 400)\n",
    "print('Images have a shape of (rows {y}, columns {x}) ', img_shape)"
   ]
  },
  {
   "cell_type": "code",
   "execution_count": 4,
   "metadata": {},
   "outputs": [],
   "source": [
    "# Get number of all .jpg files in each directory.\n",
    "open_jpg_files = glob.glob(os.path.join(open_path, '*.jpg'))\n",
    "num_open_jpg_files = len(open_jpg_files)\n",
    "\n",
    "closed_jpg_files = glob.glob(os.path.join(closed_path, '*.jpg'))\n",
    "num_closed_jpg_files = len(closed_jpg_files)"
   ]
  },
  {
   "cell_type": "code",
   "execution_count": 5,
   "metadata": {},
   "outputs": [],
   "source": [
    "X1 = np.zeros((num_open_jpg_files, np.prod(img_shape[:])))\n",
    "\n",
    "for i in (range(X1.shape[0])):\n",
    "    file =  os.path.join(open_path,'openedEye' + str(i) +'.jpg')\n",
    "    # print(file)\n",
    "    # Import image.\n",
    "    img = load_img(file, grayscale=True)\n",
    "\n",
    "    # Turn to array and remove dimensions where dim = 1.\n",
    "    img = img_to_array(img)\n",
    "    img = np.squeeze(img)\n",
    "\n",
    "    # Reshape 2D into 1D and scale by 255.\n",
    "    x = img.reshape(np.prod(img.shape)) / 255\n",
    "   \n",
    "    # Store into X array where each row is an image and each col a pixel\n",
    "    X1[i] = x\n",
    "    \n",
    "# Create the y array for the open train images\n",
    "y1 = np.ones((X1.shape[0], ))\n"
   ]
  },
  {
   "cell_type": "code",
   "execution_count": 6,
   "metadata": {},
   "outputs": [],
   "source": [
    "# Create the X3 array for the closed images.\n",
    "X3 = np.zeros((num_closed_jpg_files, np.prod(img_shape[:])))\n",
    "\n",
    "for i in (range(X3.shape[0])):\n",
    "    file =  os.path.join(closed_path,'closedEye' + str(i) +'.jpg')\n",
    "    # print(file)\n",
    "    # Import image.\n",
    "    img = load_img(file, grayscale=True)\n",
    "\n",
    "    # Turn to array and remove dimensions where dim = 1.\n",
    "    img = img_to_array(img)\n",
    "    img = np.squeeze(img)\n",
    "\n",
    "    # Reshape 2D into 1D and scale by 255.\n",
    "    x = img.reshape(np.prod(img.shape)) / 255\n",
    "    \n",
    "    # Store into X array where each row is an image and each col a pixel\n",
    "    X3[i] = x\n",
    "\n",
    "    \n",
    "# Create the y array for the open train images\n",
    "y3 = np.zeros((X3.shape[0], ))\n"
   ]
  },
  {
   "cell_type": "code",
   "execution_count": 7,
   "metadata": {},
   "outputs": [],
   "source": [
    "X = np.concatenate([X1, X3])\n",
    "y = np.concatenate([y1, y3])"
   ]
  },
  {
   "cell_type": "code",
   "execution_count": 8,
   "metadata": {},
   "outputs": [],
   "source": [
    "# Get a random subsample of the data.\n",
    "from sklearn.model_selection import train_test_split\n",
    "X_train, X_test, y_train, y_test = train_test_split(X, y, test_size = 0.2, random_state=42)"
   ]
  },
  {
   "cell_type": "code",
   "execution_count": 10,
   "metadata": {},
   "outputs": [
    {
     "name": "stderr",
     "output_type": "stream",
     "text": [
      "2023-11-08 18:57:40.165023: I tensorflow/compiler/xla/stream_executor/cuda/cuda_gpu_executor.cc:880] could not open file to read NUMA node: /sys/bus/pci/devices/0000:01:00.0/numa_node\n",
      "Your kernel may have been built without NUMA support.\n",
      "2023-11-08 18:57:40.165382: W tensorflow/core/common_runtime/gpu/gpu_device.cc:2211] Cannot dlopen some GPU libraries. Please make sure the missing libraries mentioned above are installed properly if you would like to use GPU. Follow the guide at https://www.tensorflow.org/install/gpu for how to download and setup the required libraries for your platform.\n",
      "Skipping registering GPU devices...\n"
     ]
    }
   ],
   "source": [
    "# Import model\n",
    "model = tf.keras.models.load_model('../models/open-closed-classifier.h5')\n"
   ]
  },
  {
   "cell_type": "code",
   "execution_count": 11,
   "metadata": {},
   "outputs": [
    {
     "name": "stdout",
     "output_type": "stream",
     "text": [
      "Model: \"sequential_1\"\n",
      "_________________________________________________________________\n",
      " Layer (type)                Output Shape              Param #   \n",
      "=================================================================\n",
      " dense_7 (Dense)             (None, 200)               20800200  \n",
      "                                                                 \n",
      " dense_8 (Dense)             (None, 200)               40200     \n",
      "                                                                 \n",
      " dense_9 (Dense)             (None, 200)               40200     \n",
      "                                                                 \n",
      " dense_10 (Dense)            (None, 200)               40200     \n",
      "                                                                 \n",
      " dense_11 (Dense)            (None, 200)               40200     \n",
      "                                                                 \n",
      " dense_12 (Dense)            (None, 200)               40200     \n",
      "                                                                 \n",
      " dense_13 (Dense)            (None, 1)                 201       \n",
      "                                                                 \n",
      "=================================================================\n",
      "Total params: 21001401 (80.11 MB)\n",
      "Trainable params: 21001401 (80.11 MB)\n",
      "Non-trainable params: 0 (0.00 Byte)\n",
      "_________________________________________________________________\n"
     ]
    }
   ],
   "source": [
    "model.summary()"
   ]
  },
  {
   "cell_type": "code",
   "execution_count": 12,
   "metadata": {},
   "outputs": [
    {
     "name": "stdout",
     "output_type": "stream",
     "text": [
      "6/6 [==============================] - 0s 8ms/step - loss: 1.1212e-07 - accuracy: 1.0000\n"
     ]
    },
    {
     "data": {
      "text/plain": [
       "[1.1211611905537211e-07, 1.0]"
      ]
     },
     "execution_count": 12,
     "metadata": {},
     "output_type": "execute_result"
    }
   ],
   "source": [
    "model.evaluate(X_test, y_test)"
   ]
  },
  {
   "cell_type": "code",
   "execution_count": 13,
   "metadata": {},
   "outputs": [],
   "source": [
    "# Evaluate on dataset full of open eyes.\n",
    "X_new = np.zeros((80, np.prod(img_shape[:])))\n",
    "\n",
    "for i in (range(X_new.shape[0])):\n",
    "    file =  os.path.join('.','test_img','openEye' + str(i) +'.jpg')\n",
    "    # print(file)\n",
    "    # Import image.\n",
    "    img = load_img(file, grayscale=True)\n",
    "\n",
    "    # Turn to array and remove dimensions where dim = 1.\n",
    "    img = img_to_array(img)\n",
    "    img = np.squeeze(img)\n",
    "\n",
    "    # Reshape 2D into 1D and scale by 255.\n",
    "    x = img.reshape(np.prod(img.shape)) / 255\n",
    "   \n",
    "    # Store into X array where each row is an image and each col a pixel\n",
    "    X_new[i] = x\n",
    "    \n",
    "# Create the y array for the open train images\n",
    "y_new = np.ones((X_new.shape[0], ))"
   ]
  },
  {
   "cell_type": "code",
   "execution_count": 14,
   "metadata": {},
   "outputs": [
    {
     "data": {
      "text/plain": [
       "(80, 104000)"
      ]
     },
     "execution_count": 14,
     "metadata": {},
     "output_type": "execute_result"
    }
   ],
   "source": [
    "X_new.shape"
   ]
  },
  {
   "cell_type": "code",
   "execution_count": 15,
   "metadata": {},
   "outputs": [
    {
     "data": {
      "text/plain": [
       "(80,)"
      ]
     },
     "execution_count": 15,
     "metadata": {},
     "output_type": "execute_result"
    }
   ],
   "source": [
    "y_new.shape"
   ]
  },
  {
   "cell_type": "code",
   "execution_count": 16,
   "metadata": {},
   "outputs": [
    {
     "name": "stdout",
     "output_type": "stream",
     "text": [
      "3/3 [==============================] - 0s 8ms/step - loss: 0.8570 - accuracy: 0.9375\n"
     ]
    },
    {
     "data": {
      "text/plain": [
       "[0.8569580316543579, 0.9375]"
      ]
     },
     "execution_count": 16,
     "metadata": {},
     "output_type": "execute_result"
    }
   ],
   "source": [
    "model.evaluate(X_new, y_new)"
   ]
  },
  {
   "cell_type": "markdown",
   "metadata": {},
   "source": [
    "It can be observed that the validation set exposes an accuracy of 93.75%, which is not bad per-ce but can definitely be improved. To do this, we would have to improve make the model deeper and possibly more complex (variance issue). However, this accuracy is not bad and, for that reason, we will keep the model unchanged."
   ]
  },
  {
   "cell_type": "markdown",
   "metadata": {},
   "source": []
  }
 ],
 "metadata": {
  "kernelspec": {
   "display_name": "sleep-detection-env",
   "language": "python",
   "name": "python3"
  },
  "language_info": {
   "codemirror_mode": {
    "name": "ipython",
    "version": 3
   },
   "file_extension": ".py",
   "mimetype": "text/x-python",
   "name": "python",
   "nbconvert_exporter": "python",
   "pygments_lexer": "ipython3",
   "version": "3.11.4"
  }
 },
 "nbformat": 4,
 "nbformat_minor": 2
}
